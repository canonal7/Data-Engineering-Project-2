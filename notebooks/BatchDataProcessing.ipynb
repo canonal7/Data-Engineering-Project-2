{
 "cells": [
  {
   "cell_type": "markdown",
   "id": "a7534f86-7f4b-4efc-9b3a-e47596304517",
   "metadata": {},
   "source": [
    "## Import"
   ]
  },
  {
   "cell_type": "code",
   "execution_count": 1,
   "id": "79bfe8fd-3ce9-4f6a-b825-077430b0eaf6",
   "metadata": {},
   "outputs": [],
   "source": [
    "from pyspark.sql import SparkSession\n",
    "from pyspark import SparkConf\n",
    "from pyspark.sql.functions import *"
   ]
  },
  {
   "cell_type": "markdown",
   "id": "b46977a8-5d1b-457b-96b9-861346dba7c8",
   "metadata": {},
   "source": [
    "## Spark Session"
   ]
  },
  {
   "cell_type": "code",
   "execution_count": 2,
   "id": "36aee447-3f2c-4ce5-81ee-2f9fd69b3d76",
   "metadata": {},
   "outputs": [
    {
     "data": {
      "text/plain": [
       "<pyspark.conf.SparkConf at 0x7f8fc0845110>"
      ]
     },
     "execution_count": 2,
     "metadata": {},
     "output_type": "execute_result"
    }
   ],
   "source": [
    "sparkConf = SparkConf()\n",
    "sparkConf.setMaster(\"spark://spark-master:7077\")\n",
    "sparkConf.setAppName(\"BatchDataProcessing\")\n",
    "sparkConf.set(\"spark.driver.memory\", \"2g\")\n",
    "sparkConf.set(\"spark.executor.cores\", \"1\")\n",
    "sparkConf.set(\"spark.driver.cores\", \"1\")\n"
   ]
  },
  {
   "cell_type": "markdown",
   "id": "a98d9655-a77f-428d-9c0a-cd2a5e9e5dee",
   "metadata": {},
   "source": [
    "## Create the Session"
   ]
  },
  {
   "cell_type": "code",
   "execution_count": 3,
   "id": "5842e2b2-8ff3-404d-8662-297af8241d01",
   "metadata": {},
   "outputs": [],
   "source": [
    "spark = SparkSession.builder.config(conf=sparkConf).getOrCreate()"
   ]
  },
  {
   "cell_type": "code",
   "execution_count": 4,
   "id": "7f3d198a-b176-47fb-9aaa-df58393b5b35",
   "metadata": {},
   "outputs": [],
   "source": [
    "conf = spark.sparkContext._jsc.hadoopConfiguration()\n",
    "conf.set(\"fs.gs.impl\", \"com.google.cloud.hadoop.fs.gcs.GoogleHadoopFileSystem\")\n",
    "conf.set(\"fs.AbstractFileSystem.gs.impl\", \"com.google.cloud.hadoop.fs.gcs.GoogleHadoopFS\")"
   ]
  },
  {
   "cell_type": "markdown",
   "id": "b21b5a8e-a9b9-4d46-84f9-f5155a667ae6",
   "metadata": {},
   "source": [
    "## Loading Data from BigQuery"
   ]
  },
  {
   "cell_type": "code",
   "execution_count": 5,
   "id": "939bd0d3-b5e0-44ee-a4c3-b7e63ddbdaab",
   "metadata": {},
   "outputs": [],
   "source": [
    "flightDf = spark.read \\\n",
    "  .format(\"bigquery\") \\\n",
    "  .load(\"data-eng-assignment-2.assignment2.flightdata\")"
   ]
  },
  {
   "cell_type": "markdown",
   "id": "96da6ef7-2ff9-435c-807f-f70ed8d1ec0b",
   "metadata": {},
   "source": [
    "### Show Data"
   ]
  },
  {
   "cell_type": "code",
   "execution_count": 6,
   "id": "a379e8e7-2f01-476f-8023-24bf8a23c9fe",
   "metadata": {},
   "outputs": [
    {
     "name": "stdout",
     "output_type": "stream",
     "text": [
      "root\n",
      " |-- FL_DATE: date (nullable = true)\n",
      " |-- AIRLINE_CODE: string (nullable = true)\n",
      " |-- DOT_CODE: long (nullable = true)\n",
      " |-- FL_NUMBER: long (nullable = true)\n",
      " |-- ORIGIN: string (nullable = true)\n",
      " |-- ORIGIN_CITY: string (nullable = true)\n",
      " |-- DEST: string (nullable = true)\n",
      " |-- DEST_CITY: string (nullable = true)\n",
      " |-- CRS_DEP_TIME: long (nullable = true)\n",
      " |-- DEP_TIME: double (nullable = true)\n",
      " |-- DEP_DELAY: double (nullable = true)\n",
      " |-- TAXI_OUT: double (nullable = true)\n",
      " |-- WHEELS_OFF: double (nullable = true)\n",
      " |-- WHEELS_ON: double (nullable = true)\n",
      " |-- TAXI_IN: double (nullable = true)\n",
      " |-- CRS_ARR_TIME: long (nullable = true)\n",
      " |-- ARR_TIME: double (nullable = true)\n",
      " |-- ARR_DELAY: double (nullable = true)\n",
      " |-- CANCELLED: double (nullable = true)\n",
      " |-- CANCELLATION_CODE: string (nullable = true)\n",
      " |-- DIVERTED: double (nullable = true)\n",
      " |-- CRS_ELAPSED_TIME: double (nullable = true)\n",
      " |-- ELAPSED_TIME: double (nullable = true)\n",
      " |-- AIR_TIME: double (nullable = true)\n",
      " |-- DISTANCE: double (nullable = true)\n",
      " |-- DELAY_DUE_CARRIER: double (nullable = true)\n",
      " |-- DELAY_DUE_WEATHER: double (nullable = true)\n",
      " |-- DELAY_DUE_NAS: double (nullable = true)\n",
      " |-- DELAY_DUE_SECURITY: double (nullable = true)\n",
      " |-- DELAY_DUE_LATE_AIRCRAFT: double (nullable = true)\n",
      " |-- FL_YEAR: long (nullable = true)\n",
      " |-- FL_MONTH: long (nullable = true)\n",
      " |-- FL_DAY: long (nullable = true)\n",
      "\n",
      "+----------+------------+--------+---------+------+-----------+----+--------------------+------------+--------+---------+--------+----------+---------+-------+------------+--------+---------+---------+-----------------+--------+----------------+------------+--------+--------+-----------------+-----------------+-------------+------------------+-----------------------+-------+--------+------+\n",
      "|   FL_DATE|AIRLINE_CODE|DOT_CODE|FL_NUMBER|ORIGIN|ORIGIN_CITY|DEST|           DEST_CITY|CRS_DEP_TIME|DEP_TIME|DEP_DELAY|TAXI_OUT|WHEELS_OFF|WHEELS_ON|TAXI_IN|CRS_ARR_TIME|ARR_TIME|ARR_DELAY|CANCELLED|CANCELLATION_CODE|DIVERTED|CRS_ELAPSED_TIME|ELAPSED_TIME|AIR_TIME|DISTANCE|DELAY_DUE_CARRIER|DELAY_DUE_WEATHER|DELAY_DUE_NAS|DELAY_DUE_SECURITY|DELAY_DUE_LATE_AIRCRAFT|FL_YEAR|FL_MONTH|FL_DAY|\n",
      "+----------+------------+--------+---------+------+-----------+----+--------------------+------------+--------+---------+--------+----------+---------+-------+------------+--------+---------+---------+-----------------+--------+----------------+------------+--------+--------+-----------------+-----------------+-------------+------------------+-----------------------+-------+--------+------+\n",
      "|2020-06-19|          9E|   20363|     4897|   ORD|Chicago, IL| DTW|         Detroit, MI|        1630|  1629.0|     -1.0|    12.0|    1641.0|   1830.0|   10.0|        1851|  1840.0|    -11.0|      0.0|                Z|     0.0|            81.0|        71.0|    49.0|   235.0|             NULL|             NULL|         NULL|              NULL|                   NULL|   2020|       6|    19|\n",
      "|2020-06-19|          9E|   20363|     4969|   BUF|Buffalo, NY| DTW|         Detroit, MI|         630|   622.0|     -8.0|    12.0|     634.0|    712.0|    4.0|         735|   716.0|    -19.0|      0.0|                Z|     0.0|            65.0|        54.0|    38.0|   241.0|             NULL|             NULL|         NULL|              NULL|                   NULL|   2020|       6|    19|\n",
      "|2020-06-19|          9E|   20363|     5437|   ATL|Atlanta, GA| EWN|New Bern/Morehead...|        1025|  1020.0|     -5.0|    11.0|    1031.0|   1139.0|    3.0|        1150|  1142.0|     -8.0|      0.0|                Z|     0.0|            85.0|        82.0|    68.0|   433.0|             NULL|             NULL|         NULL|              NULL|                   NULL|   2020|       6|    19|\n",
      "|2020-06-19|          9E|   20363|     4803|   DTW|Detroit, MI| IAH|         Houston, TX|         834|   832.0|     -2.0|    16.0|     848.0|   1006.0|   14.0|        1029|  1020.0|     -9.0|      0.0|                Z|     0.0|           175.0|       168.0|   138.0|  1075.0|             NULL|             NULL|         NULL|              NULL|                   NULL|   2020|       6|    19|\n",
      "+----------+------------+--------+---------+------+-----------+----+--------------------+------------+--------+---------+--------+----------+---------+-------+------------+--------+---------+---------+-----------------+--------+----------------+------------+--------+--------+-----------------+-----------------+-------------+------------------+-----------------------+-------+--------+------+\n",
      "only showing top 4 rows\n",
      "\n"
     ]
    }
   ],
   "source": [
    "flightDf.printSchema()\n",
    "flightDf.show(4)"
   ]
  },
  {
   "cell_type": "markdown",
   "id": "9a4f8f15-d265-485b-9bbc-253085c391fd",
   "metadata": {},
   "source": [
    "## Drop Irrelevant Columns"
   ]
  },
  {
   "cell_type": "code",
   "execution_count": 7,
   "id": "d9a61207-0f3b-41c0-bc04-f2c28f0f6b3f",
   "metadata": {},
   "outputs": [
    {
     "name": "stdout",
     "output_type": "stream",
     "text": [
      "root\n",
      " |-- FL_DATE: date (nullable = true)\n",
      " |-- AIRLINE_CODE: string (nullable = true)\n",
      " |-- DOT_CODE: long (nullable = true)\n",
      " |-- FL_NUMBER: long (nullable = true)\n",
      " |-- ORIGIN: string (nullable = true)\n",
      " |-- ORIGIN_CITY: string (nullable = true)\n",
      " |-- DEST: string (nullable = true)\n",
      " |-- DEST_CITY: string (nullable = true)\n",
      " |-- CRS_DEP_TIME: long (nullable = true)\n",
      " |-- DEP_TIME: double (nullable = true)\n",
      " |-- DEP_DELAY: double (nullable = true)\n",
      " |-- CRS_ARR_TIME: long (nullable = true)\n",
      " |-- ARR_TIME: double (nullable = true)\n",
      " |-- ARR_DELAY: double (nullable = true)\n",
      " |-- CANCELLED: double (nullable = true)\n",
      " |-- CANCELLATION_CODE: string (nullable = true)\n",
      " |-- DIVERTED: double (nullable = true)\n",
      " |-- CRS_ELAPSED_TIME: double (nullable = true)\n",
      " |-- ELAPSED_TIME: double (nullable = true)\n",
      " |-- AIR_TIME: double (nullable = true)\n",
      " |-- DISTANCE: double (nullable = true)\n",
      " |-- FL_YEAR: long (nullable = true)\n",
      " |-- FL_MONTH: long (nullable = true)\n",
      " |-- FL_DAY: long (nullable = true)\n",
      "\n",
      "+----------+------------+--------+---------+------+----------------+----+--------------------+------------+--------+---------+------------+--------+---------+---------+-----------------+--------+----------------+------------+--------+--------+-------+--------+------+\n",
      "|   FL_DATE|AIRLINE_CODE|DOT_CODE|FL_NUMBER|ORIGIN|     ORIGIN_CITY|DEST|           DEST_CITY|CRS_DEP_TIME|DEP_TIME|DEP_DELAY|CRS_ARR_TIME|ARR_TIME|ARR_DELAY|CANCELLED|CANCELLATION_CODE|DIVERTED|CRS_ELAPSED_TIME|ELAPSED_TIME|AIR_TIME|DISTANCE|FL_YEAR|FL_MONTH|FL_DAY|\n",
      "+----------+------------+--------+---------+------+----------------+----+--------------------+------------+--------+---------+------------+--------+---------+---------+-----------------+--------+----------------+------------+--------+--------+-------+--------+------+\n",
      "|2020-06-19|          9E|   20363|     4897|   ORD|     Chicago, IL| DTW|         Detroit, MI|        1630|  1629.0|     -1.0|        1851|  1840.0|    -11.0|      0.0|                Z|     0.0|            81.0|        71.0|    49.0|   235.0|   2020|       6|    19|\n",
      "|2020-06-19|          9E|   20363|     4969|   BUF|     Buffalo, NY| DTW|         Detroit, MI|         630|   622.0|     -8.0|         735|   716.0|    -19.0|      0.0|                Z|     0.0|            65.0|        54.0|    38.0|   241.0|   2020|       6|    19|\n",
      "|2020-06-19|          9E|   20363|     5437|   ATL|     Atlanta, GA| EWN|New Bern/Morehead...|        1025|  1020.0|     -5.0|        1150|  1142.0|     -8.0|      0.0|                Z|     0.0|            85.0|        82.0|    68.0|   433.0|   2020|       6|    19|\n",
      "|2020-06-19|          9E|   20363|     4803|   DTW|     Detroit, MI| IAH|         Houston, TX|         834|   832.0|     -2.0|        1029|  1020.0|     -9.0|      0.0|                Z|     0.0|           175.0|       168.0|   138.0|  1075.0|   2020|       6|    19|\n",
      "|2020-06-19|          9E|   20363|     5030|   GRR|Grand Rapids, MI| DTW|         Detroit, MI|         700|   652.0|     -8.0|         752|   734.0|    -18.0|      0.0|                Z|     0.0|            52.0|        42.0|    27.0|   120.0|   2020|       6|    19|\n",
      "|2020-06-19|          9E|   20363|     4805|   FAY|Fayetteville, NC| ATL|         Atlanta, GA|         730|   727.0|     -3.0|         854|   839.0|    -15.0|      0.0|                Z|     0.0|            84.0|        72.0|    55.0|   331.0|   2020|       6|    19|\n",
      "|2020-06-19|          9E|   20363|     4934|   CSG|    Columbus, GA| ATL|         Atlanta, GA|        1240|  1235.0|     -5.0|        1328|  1308.0|    -20.0|      0.0|                Z|     0.0|            48.0|        33.0|    25.0|    83.0|   2020|       6|    19|\n",
      "|2020-06-19|          9E|   20363|     4951|   ATL|     Atlanta, GA| XNA|    Fayetteville, AR|        1358|  1353.0|     -5.0|        1445|  1432.0|    -13.0|      0.0|                Z|     0.0|           107.0|        99.0|    83.0|   589.0|   2020|       6|    19|\n",
      "|2020-06-19|          9E|   20363|     4821|   DTW|     Detroit, MI| BUF|         Buffalo, NY|        1040|  1033.0|     -7.0|        1141|  1133.0|     -8.0|      0.0|                Z|     0.0|            61.0|        60.0|    42.0|   241.0|   2020|       6|    19|\n",
      "|2020-06-19|          9E|   20363|     4770|   ATL|     Atlanta, GA| FAY|    Fayetteville, NC|        1800|  1745.0|    -15.0|        1920|  1856.0|    -24.0|      0.0|                Z|     0.0|            80.0|        71.0|    54.0|   331.0|   2020|       6|    19|\n",
      "+----------+------------+--------+---------+------+----------------+----+--------------------+------------+--------+---------+------------+--------+---------+---------+-----------------+--------+----------------+------------+--------+--------+-------+--------+------+\n",
      "only showing top 10 rows\n",
      "\n"
     ]
    }
   ],
   "source": [
    "flightDf = flightDf.drop(\"DELAY_DUE_CARRIER\",\"DELAY_DUE_WEATHER\",\"DELAY_DUE_NAS\",\"DELAY_DUE_SECURITY\",\"DELAY_DUE_LATE_AIRCRAFT\",\"TAXI_OUT\",\"WHEELS_OFF\",\"WHEELS_ON\",\"TAXI_IN\")\n",
    "flightDf.printSchema()\n",
    "flightDf.show(10)"
   ]
  },
  {
   "cell_type": "code",
   "execution_count": 8,
   "id": "fa2eaad9-9a7e-4b43-8903-43b7035d1fda",
   "metadata": {},
   "outputs": [],
   "source": [
    "flightDfProcessed = flightDf.groupBy('FL_DATE').agg(count('*').alias('number_of_flights'))"
   ]
  },
  {
   "cell_type": "code",
   "execution_count": 9,
   "id": "e661c761-b399-49a5-bd1e-1abaca0ee1fb",
   "metadata": {},
   "outputs": [
    {
     "name": "stdout",
     "output_type": "stream",
     "text": [
      "root\n",
      " |-- FL_DATE: date (nullable = true)\n",
      " |-- number_of_flights: long (nullable = false)\n",
      "\n",
      "+----------+-----------------+\n",
      "|   FL_DATE|number_of_flights|\n",
      "+----------+-----------------+\n",
      "|2020-01-01|            18114|\n",
      "|2020-01-02|            20612|\n",
      "|2020-01-03|            20616|\n",
      "|2020-01-04|            18099|\n",
      "|2020-01-05|            20632|\n",
      "|2020-01-06|            20943|\n",
      "|2020-01-07|            19164|\n",
      "|2020-01-08|            19670|\n",
      "|2020-01-09|            20789|\n",
      "|2020-01-10|            20810|\n",
      "+----------+-----------------+\n",
      "only showing top 10 rows\n",
      "\n"
     ]
    }
   ],
   "source": [
    "flightDfProcessed.printSchema()\n",
    "flightDfProcessed = flightDfProcessed.orderBy(col('FL_DATE').asc())\n",
    "flightDfProcessed.show(10)"
   ]
  },
  {
   "cell_type": "code",
   "execution_count": 10,
   "id": "b0558a03-2857-40cd-b45e-5b62fa468782",
   "metadata": {},
   "outputs": [
    {
     "name": "stdout",
     "output_type": "stream",
     "text": [
      "+----------+-------------------+\n",
      "|   FL_DATE|      AVG_DELAY_DAY|\n",
      "+----------+-------------------+\n",
      "|2020-08-24|-1.0528630838131798|\n",
      "|2020-07-24|-0.2810010461092782|\n",
      "|2020-08-05|-1.9180387190157409|\n",
      "|2020-01-21| 3.4156082712291385|\n",
      "|2020-11-29| 0.3615639496355202|\n",
      "|2020-08-28|  2.814814814814815|\n",
      "|2020-08-29|-2.0208619505494507|\n",
      "|2020-04-30| -2.963560447902828|\n",
      "|2020-10-04| 0.5998155445627568|\n",
      "|2020-09-24|-1.1462092258465915|\n",
      "+----------+-------------------+\n",
      "only showing top 10 rows\n",
      "\n"
     ]
    }
   ],
   "source": [
    "averageDelayDf = flightDf.groupBy('FL_DATE').agg(avg('DEP_DELAY').alias('AVG_DELAY_DAY'))\n",
    "averageDelayDf.show(10)"
   ]
  },
  {
   "cell_type": "code",
   "execution_count": 11,
   "id": "6ea7a502-c8d7-4b3a-84d0-39282452f424",
   "metadata": {},
   "outputs": [],
   "source": [
    "flightDfProcessed = flightDfProcessed.join(averageDelayDf, 'FL_DATE', 'left')"
   ]
  },
  {
   "cell_type": "code",
   "execution_count": 12,
   "id": "65737e91-a588-4cd3-9143-48922e09c726",
   "metadata": {},
   "outputs": [
    {
     "name": "stdout",
     "output_type": "stream",
     "text": [
      "+----------+-----------------+------------------+\n",
      "|   FL_DATE|number_of_flights|     AVG_DELAY_DAY|\n",
      "+----------+-----------------+------------------+\n",
      "|2020-01-01|            18114| 5.649816687034774|\n",
      "|2020-01-02|            20612| 6.620170523751523|\n",
      "|2020-01-03|            20616| 8.703171432747114|\n",
      "|2020-01-04|            18099|13.947735964085796|\n",
      "|2020-01-05|            20632| 9.104095729156533|\n",
      "|2020-01-06|            20943| 5.722735320859454|\n",
      "|2020-01-07|            19164|2.0051338467180053|\n",
      "|2020-01-08|            19670| 4.033389493031092|\n",
      "|2020-01-09|            20789|1.1570271833429728|\n",
      "|2020-01-10|            20810| 8.077751733080644|\n",
      "+----------+-----------------+------------------+\n",
      "only showing top 10 rows\n",
      "\n"
     ]
    }
   ],
   "source": [
    "flightDfProcessed = flightDfProcessed.orderBy(col('FL_DATE').asc())\n",
    "flightDfProcessed.show(10)\n"
   ]
  },
  {
   "cell_type": "code",
   "execution_count": 13,
   "id": "f4d452c5-e61b-4c78-8a7f-cb0be11f0d7a",
   "metadata": {},
   "outputs": [],
   "source": [
    "flightDfProcessed = flightDfProcessed.withColumn('AVG_DELAY_DAY', round(col('AVG_DELAY_DAY'),1))"
   ]
  },
  {
   "cell_type": "code",
   "execution_count": 14,
   "id": "db63b948-d4b1-4328-8086-8a0cd1090721",
   "metadata": {},
   "outputs": [],
   "source": [
    "bucket = \"temp_bucket_prj2\"\n",
    "spark.conf.set('temporaryGcsBucket', bucket)\n",
    "# Saving the data to BigQuery\n",
    "flightDfProcessed.write.format('bigquery') \\\n",
    "  .option('table', 'data-eng-assignment-2.assignment2.avg-delay-per-day') \\\n",
    "  .option('temporaryGcsBucket', bucket) \\\n",
    "  .mode('overwrite') \\\n",
    "  .save()"
   ]
  },
  {
   "cell_type": "code",
   "execution_count": 15,
   "id": "0485f107-f06d-4980-93c4-7f2fd695a650",
   "metadata": {},
   "outputs": [],
   "source": [
    "weatherDf = spark.read \\\n",
    "  .format(\"bigquery\") \\\n",
    "  .load(\"data-eng-assignment-2.assignment2.weatherdata\")"
   ]
  },
  {
   "cell_type": "code",
   "execution_count": 16,
   "id": "74073092-96c6-4db3-bcb3-01461822286d",
   "metadata": {},
   "outputs": [
    {
     "name": "stdout",
     "output_type": "stream",
     "text": [
      "root\n",
      " |-- FL_DATE: date (nullable = true)\n",
      " |-- WIND_SPEED: double (nullable = true)\n",
      "\n",
      "+----------+----------+\n",
      "|   FL_DATE|WIND_SPEED|\n",
      "+----------+----------+\n",
      "|2020-03-14|       3.5|\n",
      "|2020-12-14|       3.5|\n",
      "|2020-10-28|       4.0|\n",
      "|2020-07-06|       7.5|\n",
      "|2020-01-24|       8.0|\n",
      "|2020-08-12|       8.0|\n",
      "|2020-12-05|       8.0|\n",
      "|2020-08-03|       9.0|\n",
      "|2020-11-11|       9.0|\n",
      "|2020-10-26|       9.5|\n",
      "+----------+----------+\n",
      "only showing top 10 rows\n",
      "\n"
     ]
    }
   ],
   "source": [
    "weatherDf.printSchema()\n",
    "weatherDf.show(10)"
   ]
  },
  {
   "cell_type": "code",
   "execution_count": 17,
   "id": "a624ba39-d07b-4c3e-bc76-3cd26f60829d",
   "metadata": {},
   "outputs": [],
   "source": [
    "weatherDf = weatherDf.orderBy(col('FL_DATE').asc())"
   ]
  },
  {
   "cell_type": "code",
   "execution_count": 18,
   "id": "5a5653f2-7e98-4e4a-847a-b022cd42dafb",
   "metadata": {},
   "outputs": [
    {
     "name": "stdout",
     "output_type": "stream",
     "text": [
      "+----------+----------+\n",
      "|   FL_DATE|WIND_SPEED|\n",
      "+----------+----------+\n",
      "|2020-01-01|      49.7|\n",
      "|2020-01-02|       5.9|\n",
      "|2020-01-03|      22.1|\n",
      "|2020-01-04|      46.4|\n",
      "|2020-01-05|      45.4|\n",
      "|2020-01-06|       7.1|\n",
      "|2020-01-07|      14.0|\n",
      "|2020-01-08|      48.0|\n",
      "|2020-01-09|      45.1|\n",
      "|2020-01-10|      29.3|\n",
      "+----------+----------+\n",
      "only showing top 10 rows\n",
      "\n"
     ]
    },
    {
     "data": {
      "text/plain": [
       "366"
      ]
     },
     "execution_count": 18,
     "metadata": {},
     "output_type": "execute_result"
    }
   ],
   "source": [
    "weatherDf.show(10)\n",
    "weatherDf.count()"
   ]
  },
  {
   "cell_type": "code",
   "execution_count": 19,
   "id": "62303df4-36fd-49d6-ae6e-6aea42856b70",
   "metadata": {},
   "outputs": [
    {
     "name": "stdout",
     "output_type": "stream",
     "text": [
      "+----------+-----------------+-------------+----------+\n",
      "|   FL_DATE|number_of_flights|AVG_DELAY_DAY|WIND_SPEED|\n",
      "+----------+-----------------+-------------+----------+\n",
      "|2020-01-01|            18114|          5.6|      49.7|\n",
      "|2020-01-02|            20612|          6.6|       5.9|\n",
      "|2020-01-03|            20616|          8.7|      22.1|\n",
      "|2020-01-04|            18099|         13.9|      46.4|\n",
      "|2020-01-05|            20632|          9.1|      45.4|\n",
      "|2020-01-06|            20943|          5.7|       7.1|\n",
      "|2020-01-07|            19164|          2.0|      14.0|\n",
      "|2020-01-08|            19670|          4.0|      48.0|\n",
      "|2020-01-09|            20789|          1.2|      45.1|\n",
      "|2020-01-10|            20810|          8.1|      29.3|\n",
      "+----------+-----------------+-------------+----------+\n",
      "only showing top 10 rows\n",
      "\n"
     ]
    }
   ],
   "source": [
    "weatherDelay = flightDfProcessed.join(weatherDf, 'FL_DATE', 'left').orderBy(col('FL_DATE').asc())\n",
    "weatherDelay.show(10)\n"
   ]
  },
  {
   "cell_type": "code",
   "execution_count": 20,
   "id": "4559dd5e-1e0f-4cfa-af34-d2d1086d5886",
   "metadata": {},
   "outputs": [
    {
     "name": "stdout",
     "output_type": "stream",
     "text": [
      "+----------+-----------------+-------------+----------+\n",
      "|   FL_DATE|number_of_flights|AVG_DELAY_DAY|WIND_SPEED|\n",
      "+----------+-----------------+-------------+----------+\n",
      "|2020-01-01|            18114|          5.6|      49.7|\n",
      "|2020-01-02|            20612|          6.6|       5.9|\n",
      "|2020-01-03|            20616|          8.7|      22.1|\n",
      "|2020-01-04|            18099|         13.9|      46.4|\n",
      "|2020-01-05|            20632|          9.1|      45.4|\n",
      "|2020-01-06|            20943|          5.7|       7.1|\n",
      "|2020-01-07|            19164|          2.0|      14.0|\n",
      "|2020-01-08|            19670|          4.0|      48.0|\n",
      "|2020-01-09|            20789|          1.2|      45.1|\n",
      "|2020-01-10|            20810|          8.1|      29.3|\n",
      "+----------+-----------------+-------------+----------+\n",
      "only showing top 10 rows\n",
      "\n"
     ]
    }
   ],
   "source": [
    "weatherDelay = weatherDelay.withColumn('AVG_DELAY_DAY', round(col('AVG_DELAY_DAY'),1))\n",
    "weatherDelay.show(10)"
   ]
  },
  {
   "cell_type": "code",
   "execution_count": 21,
   "id": "26e92cd8-741b-4e55-b14f-817980a3a323",
   "metadata": {},
   "outputs": [],
   "source": [
    "weatherDelay.write.format('bigquery') \\\n",
    "  .option('table', 'data-eng-assignment-2.assignment2.weather-delay') \\\n",
    "  .option('temporaryGcsBucket', bucket) \\\n",
    "  .mode('overwrite') \\\n",
    "  .save()"
   ]
  },
  {
   "cell_type": "code",
   "execution_count": 22,
   "id": "17d16322-0941-42e8-b577-89ac81bf3d86",
   "metadata": {},
   "outputs": [
    {
     "name": "stdout",
     "output_type": "stream",
     "text": [
      "+------------+--------------------+\n",
      "|AIRLINE_CODE|   AVG_DELAY_AIRLINE|\n",
      "+------------+--------------------+\n",
      "|          UA|  1.9604145810435234|\n",
      "|          NK|  3.8635644837892027|\n",
      "|          AA|   3.062314246456681|\n",
      "|          EV|-0.04897721603193...|\n",
      "|          B6|  1.4670518448911272|\n",
      "|          DL|  1.5880461701110806|\n",
      "|          OO|   3.782471560626977|\n",
      "|          F9|   0.904193347049169|\n",
      "|          YV|   4.770665208390297|\n",
      "|          MQ|  1.6796341073498262|\n",
      "|          OH|   4.839221922349015|\n",
      "|          HA| -1.2147764976356559|\n",
      "|          G4|   5.907015960478814|\n",
      "|          YX|   -0.54213591861893|\n",
      "|          AS| -1.1810845804101051|\n",
      "|          WN|  1.0216153510980834|\n",
      "|          9E|  0.7669428115922183|\n",
      "+------------+--------------------+\n",
      "\n"
     ]
    }
   ],
   "source": [
    "tempDf = flightDf.groupBy('AIRLINE_CODE').agg(avg('DEP_DELAY').alias('AVG_DELAY_AIRLINE'))\n",
    "tempDf.show()"
   ]
  },
  {
   "cell_type": "code",
   "execution_count": 23,
   "id": "1b254433-daa7-4a84-ab3d-afdf511c8c77",
   "metadata": {},
   "outputs": [],
   "source": [
    "airlineCodeDictDf = spark.read \\\n",
    "  .format(\"bigquery\") \\\n",
    "  .load(\"data-eng-assignment-2.assignment2.airlinecodes\")"
   ]
  },
  {
   "cell_type": "code",
   "execution_count": 24,
   "id": "c175cc0a-cfb2-480e-a077-fd92bd610063",
   "metadata": {},
   "outputs": [
    {
     "name": "stdout",
     "output_type": "stream",
     "text": [
      "+------------+--------------------+----+--------------------+\n",
      "|AIRLINE_CODE|   AVG_DELAY_AIRLINE|CODE|               DESCR|\n",
      "+------------+--------------------+----+--------------------+\n",
      "|          G4|   5.907015960478814|  G4|       Allegiant Air|\n",
      "|          OH|   4.839221922349015|  OH|   PSA Airlines Inc.|\n",
      "|          YV|   4.770665208390297|  YV|  Mesa Airlines Inc.|\n",
      "|          NK|  3.8635644837892027|  NK|    Spirit Air Lines|\n",
      "|          OO|   3.782471560626977|  OO|SkyWest Airlines ...|\n",
      "|          AA|   3.062314246456681|  AA|American Airlines...|\n",
      "|          UA|  1.9604145810435234|  UA|United Air Lines ...|\n",
      "|          MQ|  1.6796341073498262|  MQ|           Envoy Air|\n",
      "|          DL|  1.5880461701110806|  DL|Delta Air Lines Inc.|\n",
      "|          B6|  1.4670518448911272|  B6|     JetBlue Airways|\n",
      "|          WN|  1.0216153510980834|  WN|Southwest Airline...|\n",
      "|          F9|   0.904193347049169|  F9|Frontier Airlines...|\n",
      "|          9E|  0.7669428115922183|  9E|   Endeavor Air Inc.|\n",
      "|          EV|-0.04897721603193...|  EV|ExpressJet Airlin...|\n",
      "|          YX|   -0.54213591861893|  YX|    Republic Airline|\n",
      "|          AS| -1.1810845804101051|  AS|Alaska Airlines Inc.|\n",
      "|          HA| -1.2147764976356559|  HA|Hawaiian Airlines...|\n",
      "+------------+--------------------+----+--------------------+\n",
      "\n"
     ]
    }
   ],
   "source": [
    "delayByAirlineDf = tempDf.join(airlineCodeDictDf, airlineCodeDictDf['CODE']==tempDf['AIRLINE_CODE'], how='left')\n",
    "delayByAirlineDf = delayByAirlineDf.orderBy(col('AVG_DELAY_AIRLINE').desc())\n",
    "delayByAirlineDf.show()\n"
   ]
  },
  {
   "cell_type": "code",
   "execution_count": 25,
   "id": "572b91b6-5b65-434e-9f6e-6ff56be2b7d7",
   "metadata": {},
   "outputs": [
    {
     "name": "stdout",
     "output_type": "stream",
     "text": [
      "+------------+--------------------+--------------------+\n",
      "|AIRLINE_CODE|   AVG_DELAY_AIRLINE|               DESCR|\n",
      "+------------+--------------------+--------------------+\n",
      "|          G4|   5.907015960478814|       Allegiant Air|\n",
      "|          OH|   4.839221922349015|   PSA Airlines Inc.|\n",
      "|          YV|   4.770665208390297|  Mesa Airlines Inc.|\n",
      "|          NK|  3.8635644837892027|    Spirit Air Lines|\n",
      "|          OO|   3.782471560626977|SkyWest Airlines ...|\n",
      "|          AA|   3.062314246456681|American Airlines...|\n",
      "|          UA|  1.9604145810435234|United Air Lines ...|\n",
      "|          MQ|  1.6796341073498262|           Envoy Air|\n",
      "|          DL|  1.5880461701110806|Delta Air Lines Inc.|\n",
      "|          B6|  1.4670518448911272|     JetBlue Airways|\n",
      "|          WN|  1.0216153510980834|Southwest Airline...|\n",
      "|          F9|   0.904193347049169|Frontier Airlines...|\n",
      "|          9E|  0.7669428115922183|   Endeavor Air Inc.|\n",
      "|          EV|-0.04897721603193...|ExpressJet Airlin...|\n",
      "|          YX|   -0.54213591861893|    Republic Airline|\n",
      "|          AS| -1.1810845804101051|Alaska Airlines Inc.|\n",
      "|          HA| -1.2147764976356559|Hawaiian Airlines...|\n",
      "+------------+--------------------+--------------------+\n",
      "\n"
     ]
    }
   ],
   "source": [
    "delayByAirlineDf=delayByAirlineDf.drop('CODE')\n",
    "delayByAirlineDf.show()"
   ]
  },
  {
   "cell_type": "code",
   "execution_count": 44,
   "id": "8942c4ad-d2b0-426f-9500-a64c550d4b03",
   "metadata": {},
   "outputs": [],
   "source": [
    "delayByAirlineDf.write.format('bigquery') \\\n",
    "  .option('table', 'data-eng-assignment-2.assignment2.airline-delay') \\\n",
    "  .option('temporaryGcsBucket', bucket) \\\n",
    "  .mode('overwrite') \\\n",
    "  .save()"
   ]
  },
  {
   "cell_type": "code",
   "execution_count": 26,
   "id": "140dfa01-bc30-4f60-bc15-5ba9e79b543b",
   "metadata": {},
   "outputs": [
    {
     "name": "stdout",
     "output_type": "stream",
     "text": [
      "+------+--------------------+\n",
      "|ORIGIN|    AVG_DELAY_ORIGIN|\n",
      "+------+--------------------+\n",
      "|   BGM|   16.27251184834123|\n",
      "|   DLG| -0.9568345323741008|\n",
      "|   PSE|  7.2405063291139244|\n",
      "|   INL|   5.271626297577854|\n",
      "|   MSY|   3.410666401827391|\n",
      "|   PPG|   80.04347826086956|\n",
      "|   GEG|  0.4766497946709961|\n",
      "|   DRT|   6.505938242280285|\n",
      "|   SNA|  0.6287617839013778|\n",
      "|   BUR|-0.14614284826257226|\n",
      "|   GRB|   1.483450031826862|\n",
      "|   GTF|   5.733113673805601|\n",
      "|   IDA|   3.748644652538196|\n",
      "|   GRR|   2.731504366452463|\n",
      "|   LWB|    4.54014598540146|\n",
      "|   PVU|   5.418685121107266|\n",
      "|   JLN|                 6.6|\n",
      "|   PSG| -3.8025387870239773|\n",
      "|   EUG|  2.2387505460899955|\n",
      "|   ATY| -0.3703071672354949|\n",
      "+------+--------------------+\n",
      "only showing top 20 rows\n",
      "\n"
     ]
    }
   ],
   "source": [
    "avgDelayOrg = flightDf.groupBy('ORIGIN').agg(avg('DEP_DELAY').alias('AVG_DELAY_ORIGIN'))\n",
    "avgDelayOrg.show()"
   ]
  },
  {
   "cell_type": "code",
   "execution_count": 27,
   "id": "37844586-5e0c-43bf-ba55-b5fc7ee334ce",
   "metadata": {},
   "outputs": [
    {
     "name": "stdout",
     "output_type": "stream",
     "text": [
      "+------+------------------+\n",
      "|ORIGIN|  AVG_DELAY_ORIGIN|\n",
      "+------+------------------+\n",
      "|   PPG| 80.04347826086956|\n",
      "|   CDB|31.733333333333334|\n",
      "|   ALS|             31.52|\n",
      "|   MMH|23.597989949748744|\n",
      "+------+------------------+\n",
      "only showing top 4 rows\n",
      "\n"
     ]
    }
   ],
   "source": [
    "avgDelayOrg = avgDelayOrg.orderBy(col('AVG_DELAY_ORIGIN').desc())\n",
    "\n",
    "avgDelayOrg.show(4)"
   ]
  },
  {
   "cell_type": "code",
   "execution_count": 45,
   "id": "0e3785fd-d9be-4ce7-b853-d9c3d102bcf3",
   "metadata": {},
   "outputs": [],
   "source": [
    "avgDelayOrg.write.format('bigquery') \\\n",
    "  .option('table', 'data-eng-assignment-2.assignment2.origin-delay') \\\n",
    "  .option('temporaryGcsBucket', bucket) \\\n",
    "  .mode('overwrite') \\\n",
    "  .save()"
   ]
  },
  {
   "cell_type": "code",
   "execution_count": 29,
   "id": "8ac08a1d-b1de-4529-bd88-ff1087b7807d",
   "metadata": {},
   "outputs": [],
   "source": [
    "from pyspark.ml.feature import StringIndexer"
   ]
  },
  {
   "cell_type": "code",
   "execution_count": 35,
   "id": "e2993bab-c902-44c9-9513-6fa2b40eaa90",
   "metadata": {},
   "outputs": [],
   "source": [
    "indexerOrg = StringIndexer(inputCol = 'ORIGIN', outputCol = 'ORIGIN_FACTOR')\n",
    "indexedDfOrg = indexer.fit(avgDelayOrg).transform(avgDelayOrg)"
   ]
  },
  {
   "cell_type": "code",
   "execution_count": 36,
   "id": "8f309a97-ee8b-492a-be68-390da09e82fc",
   "metadata": {},
   "outputs": [
    {
     "name": "stdout",
     "output_type": "stream",
     "text": [
      "root\n",
      " |-- ORIGIN: string (nullable = true)\n",
      " |-- AVG_DELAY_ORIGIN: double (nullable = true)\n",
      " |-- ORIGIN_FACTOR: double (nullable = false)\n",
      "\n",
      "+------+-------------------+-------------+\n",
      "|ORIGIN|   AVG_DELAY_ORIGIN|ORIGIN_FACTOR|\n",
      "+------+-------------------+-------------+\n",
      "|   ABE|  7.739580068943905|          0.0|\n",
      "|   ABI|  1.585247883917775|          1.0|\n",
      "|   ABQ| 0.8052434456928839|          2.0|\n",
      "|   ABR|  8.284457478005866|          3.0|\n",
      "|   ABY|  1.153225806451613|          4.0|\n",
      "|   ACK|-1.1297169811320755|          5.0|\n",
      "|   ACT|0.28475551294343243|          6.0|\n",
      "|   ACV|   9.92088888888889|          7.0|\n",
      "|   ACY|-0.9722076560041951|          8.0|\n",
      "|   ADK| 10.313131313131313|          9.0|\n",
      "|   ADQ|-2.9079229122055676|         10.0|\n",
      "|   AEX| 3.7857793983591614|         11.0|\n",
      "|   AGS| 3.4020100502512562|         12.0|\n",
      "|   AKN| 2.0552763819095476|         13.0|\n",
      "|   ALB| 1.3963246997540153|         14.0|\n",
      "|   ALO|  1.696551724137931|         15.0|\n",
      "|   ALS|              31.52|         16.0|\n",
      "|   AMA| 2.4019843656043296|         17.0|\n",
      "|   ANC|-2.1115654205607477|         18.0|\n",
      "|   APN| 16.657580919931856|         19.0|\n",
      "+------+-------------------+-------------+\n",
      "only showing top 20 rows\n",
      "\n"
     ]
    }
   ],
   "source": [
    "indexedDfOrg.printSchema()\n",
    "indexedDfOrg.orderBy(col('ORIGIN_FACTOR').asc()).show()"
   ]
  },
  {
   "cell_type": "code",
   "execution_count": 37,
   "id": "42ac961b-7d06-4ad0-baa6-07a2bbd4d606",
   "metadata": {},
   "outputs": [
    {
     "data": {
      "text/plain": [
       "-0.05097058528947979"
      ]
     },
     "execution_count": 37,
     "metadata": {},
     "output_type": "execute_result"
    }
   ],
   "source": [
    "correlationOrigin = indexedDfOrg.corr('AVG_DELAY_ORIGIN','ORIGIN_FACTOR')\n",
    "correlationOrigin"
   ]
  },
  {
   "cell_type": "code",
   "execution_count": 40,
   "id": "b518a173-82f0-4e5b-8487-ecfe01c4cc0e",
   "metadata": {},
   "outputs": [
    {
     "name": "stdout",
     "output_type": "stream",
     "text": [
      "+------------+--------------------+--------------------+--------------+\n",
      "|AIRLINE_CODE|   AVG_DELAY_AIRLINE|               DESCR|AIRLINE_CODE_F|\n",
      "+------------+--------------------+--------------------+--------------+\n",
      "|          9E|  0.7669428115922183|   Endeavor Air Inc.|           0.0|\n",
      "|          AA|   3.062314246456681|American Airlines...|           1.0|\n",
      "|          AS| -1.1810845804101051|Alaska Airlines Inc.|           2.0|\n",
      "|          B6|  1.4670518448911272|     JetBlue Airways|           3.0|\n",
      "|          DL|  1.5880461701110806|Delta Air Lines Inc.|           4.0|\n",
      "|          EV|-0.04897721603193...|ExpressJet Airlin...|           5.0|\n",
      "|          F9|   0.904193347049169|Frontier Airlines...|           6.0|\n",
      "|          G4|   5.907015960478814|       Allegiant Air|           7.0|\n",
      "|          HA| -1.2147764976356559|Hawaiian Airlines...|           8.0|\n",
      "|          MQ|  1.6796341073498262|           Envoy Air|           9.0|\n",
      "|          NK|  3.8635644837892027|    Spirit Air Lines|          10.0|\n",
      "|          OH|   4.839221922349015|   PSA Airlines Inc.|          11.0|\n",
      "|          OO|   3.782471560626977|SkyWest Airlines ...|          12.0|\n",
      "|          UA|  1.9604145810435234|United Air Lines ...|          13.0|\n",
      "|          WN|  1.0216153510980834|Southwest Airline...|          14.0|\n",
      "|          YV|   4.770665208390297|  Mesa Airlines Inc.|          15.0|\n",
      "|          YX|   -0.54213591861893|    Republic Airline|          16.0|\n",
      "+------------+--------------------+--------------------+--------------+\n",
      "\n"
     ]
    }
   ],
   "source": [
    "indexerAirline = StringIndexer(inputCol = 'AIRLINE_CODE', outputCol = 'AIRLINE_CODE_F')\n",
    "indexedDfAirline = indexerAirline.fit(delayByAirlineDf).transform(delayByAirlineDf)\n",
    "indexedDfAirline.orderBy(col('AIRLINE_CODE_F').asc()).show()"
   ]
  },
  {
   "cell_type": "code",
   "execution_count": 41,
   "id": "976fb256-b6f8-41c9-bbbd-e75587964ddf",
   "metadata": {},
   "outputs": [
    {
     "data": {
      "text/plain": [
       "0.24342065643270153"
      ]
     },
     "execution_count": 41,
     "metadata": {},
     "output_type": "execute_result"
    }
   ],
   "source": [
    "corrAirline = indexedDfAirline.corr('AVG_DELAY_AIRLINE', 'AIRLINE_CODE_F')\n",
    "corrAirline"
   ]
  },
  {
   "cell_type": "code",
   "execution_count": 28,
   "id": "4081c27d-793d-476a-a4a7-47272a69eeae",
   "metadata": {},
   "outputs": [
    {
     "data": {
      "text/plain": [
       "-0.028922234766114083"
      ]
     },
     "execution_count": 28,
     "metadata": {},
     "output_type": "execute_result"
    }
   ],
   "source": [
    "correlation_result = weatherDelay.corr('WIND_SPEED', 'AVG_DELAY_DAY')\n",
    "correlation_result"
   ]
  },
  {
   "cell_type": "code",
   "execution_count": 42,
   "id": "12373e6e-788e-4fa0-bd3b-f090d4316b3a",
   "metadata": {},
   "outputs": [],
   "source": [
    "corrDf = spark.createDataFrame(\n",
    "    [\n",
    "        ('ORIGIN',correlationOrigin),\n",
    "        ('AIRLINE', corrAirline),\n",
    "        ('WEATHER', correlation_result)\n",
    "    ],\n",
    "    ['CORR_VAR', 'CORR_VAL']\n",
    ")"
   ]
  },
  {
   "cell_type": "code",
   "execution_count": 43,
   "id": "893f318a-0c85-497a-8f56-39cd0c1e4f2e",
   "metadata": {},
   "outputs": [
    {
     "name": "stdout",
     "output_type": "stream",
     "text": [
      "root\n",
      " |-- CORR_VAR: string (nullable = true)\n",
      " |-- CORR_VAL: double (nullable = true)\n",
      "\n",
      "+--------+--------------------+\n",
      "|CORR_VAR|            CORR_VAL|\n",
      "+--------+--------------------+\n",
      "|  ORIGIN|-0.05097058528947979|\n",
      "| AIRLINE| 0.24342065643270153|\n",
      "| WEATHER|-0.02892223476611...|\n",
      "+--------+--------------------+\n",
      "\n"
     ]
    }
   ],
   "source": [
    "corrDf.printSchema()\n",
    "corrDf.show()"
   ]
  }
 ],
 "metadata": {
  "kernelspec": {
   "display_name": "Python 3 (ipykernel)",
   "language": "python",
   "name": "python3"
  },
  "language_info": {
   "codemirror_mode": {
    "name": "ipython",
    "version": 3
   },
   "file_extension": ".py",
   "mimetype": "text/x-python",
   "name": "python",
   "nbconvert_exporter": "python",
   "pygments_lexer": "ipython3",
   "version": "3.11.6"
  }
 },
 "nbformat": 4,
 "nbformat_minor": 5
}
